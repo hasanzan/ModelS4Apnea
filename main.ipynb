{
 "cells": [
  {
   "cell_type": "markdown",
   "metadata": {
    "editable": true,
    "slideshow": {
     "slide_type": ""
    },
    "tags": []
   },
   "source": [
    "# Imports"
   ]
  },
  {
   "cell_type": "code",
   "execution_count": null,
   "metadata": {
    "ExecuteTime": {
     "end_time": "2023-10-08T20:21:45.926842800Z",
     "start_time": "2023-10-08T20:21:43.677613400Z"
    }
   },
   "outputs": [],
   "source": [
    "import torch\n",
    "import torch.nn as nn\n",
    "from torch.utils.data import Dataset, DataLoader\n",
    "from numpy.lib.stride_tricks import sliding_window_view\n",
    "\n",
    "import glob\n",
    "import os\n",
    "import time\n",
    "import numpy as np\n",
    "import pandas as pd\n",
    "import matplotlib.pyplot as plt\n",
    "from sklearn.model_selection import train_test_split\n",
    "from sklearn.metrics import classification_report\n",
    "from plot_cm import plot_cm\n",
    "from copy import deepcopy\n",
    "\n",
    "from typing import List\n",
    "import random\n",
    "\n",
    "from scipy import signal\n",
    "from s4_model import S4Model\n",
    "\n",
    "from torchaudio.transforms import Spectrogram, SpecAugment, AmplitudeToDB\n",
    "from torchvision.transforms import v2"
   ]
  },
  {
   "cell_type": "markdown",
   "metadata": {},
   "source": [
    "# Settings"
   ]
  },
  {
   "cell_type": "code",
   "execution_count": 2,
   "metadata": {
    "ExecuteTime": {
     "end_time": "2023-10-08T20:21:45.958011600Z",
     "start_time": "2023-10-08T20:21:45.929844100Z"
    }
   },
   "outputs": [
    {
     "data": {
      "text/plain": [
       "device(type='cuda', index=0)"
      ]
     },
     "execution_count": 2,
     "metadata": {},
     "output_type": "execute_result"
    }
   ],
   "source": [
    "# sampling freq\n",
    "fs = 100\n",
    "\n",
    "# learning rate\n",
    "lr = 1e-3\n",
    "windows = (1, 1)\n",
    "\n",
    "# number of classes\n",
    "num_classes = 2\n",
    "\n",
    "# number of channels\n",
    "num_channels = 201\n",
    "\n",
    "# batch size\n",
    "batch_size = 64\n",
    "\n",
    "# CNN\n",
    "in_channels = [num_channels] + [128]\n",
    "kernel_size = [3]\n",
    "\n",
    "# model\n",
    "num_layers = 6\n",
    "d_model = in_channels[-1]\n",
    "d_state = 64\n",
    "\n",
    "# set seeds\n",
    "torch.manual_seed(0)\n",
    "torch.cuda.manual_seed(0)\n",
    "np.random.seed(0)\n",
    "random.seed(0)\n",
    "\n",
    "# set device and algo\n",
    "torch.backends.cudnn.benchmark = False\n",
    "torch.backends.cudnn.deterministic = True\n",
    "device = torch.device('cuda:0' if torch.cuda.is_available() else 'cpu')\n",
    "device"
   ]
  },
  {
   "cell_type": "markdown",
   "metadata": {},
   "source": [
    "# Model"
   ]
  },
  {
   "cell_type": "code",
   "execution_count": 3,
   "metadata": {},
   "outputs": [
    {
     "name": "stdout",
     "output_type": "stream",
     "text": [
      "Constructing S4 (H, N, L) = (128, 32, None)\n",
      "Constructing S4 (H, N, L) = (128, 32, None)\n",
      "Constructing S4 (H, N, L) = (128, 32, None)\n",
      "Constructing S4 (H, N, L) = (128, 32, None)\n",
      "Constructing S4 (H, N, L) = (128, 32, None)\n",
      "Constructing S4 (H, N, L) = (128, 32, None)\n"
     ]
    }
   ],
   "source": [
    "model = S4Model(\n",
    "    in_channels=in_channels,\n",
    "    kernel_size=kernel_size,\n",
    "    d_output=num_classes,\n",
    "    d_model=d_model,\n",
    "    n_layers=num_layers,\n",
    "    prenorm=True,\n",
    "    lr=lr\n",
    "    \n",
    ")"
   ]
  },
  {
   "cell_type": "markdown",
   "metadata": {},
   "source": [
    "# Data Loading"
   ]
  },
  {
   "cell_type": "markdown",
   "metadata": {},
   "source": [
    "## Filtering"
   ]
  },
  {
   "cell_type": "code",
   "execution_count": 5,
   "metadata": {},
   "outputs": [],
   "source": [
    "# Filter specifications\n",
    "lowcut = 5.\n",
    "highcut = 35.\n",
    "fs = 100  # Sampling frequency\n",
    "order = 2  # Filter order\n",
    "\n",
    "# Normalize the frequencies\n",
    "nyq = 0.5 * fs\n",
    "low = lowcut / nyq\n",
    "high = highcut / nyq\n",
    "\n",
    "# Design the filter\n",
    "filt_b, filt_a = signal.butter(order, [low, high], btype='band')"
   ]
  },
  {
   "cell_type": "markdown",
   "metadata": {},
   "source": [
    "## Continous Files"
   ]
  },
  {
   "cell_type": "code",
   "execution_count": 6,
   "metadata": {},
   "outputs": [],
   "source": [
    "# paths to train-val files\n",
    "files_train_val = sorted(glob.glob(\"data/*.npy\"))\n",
    "files_train_val = [path for path in files_train_val if \"x\" not in path]\n",
    "\n",
    "# paths to test files\n",
    "files_test = sorted(glob.glob(\"data/x*.npy\"))"
   ]
  },
  {
   "cell_type": "markdown",
   "metadata": {},
   "source": [
    "## To Disk"
   ]
  },
  {
   "cell_type": "code",
   "execution_count": 7,
   "metadata": {},
   "outputs": [],
   "source": [
    "# copy first and last segments\n",
    "def get_all(paths, type) -> np.ndarray:\n",
    "    data_all = []\n",
    "    labels_all = []\n",
    "    paths_all = []\n",
    "    for path in paths:\n",
    "        # load data\n",
    "        data = np.load(path)\n",
    "        # load labels\n",
    "        labels = np.load(path.replace(\"data\", \"labels\"))\n",
    "        # make length a factor of 1 minute\n",
    "        data = data[:data.shape[0] // (fs * 60) * (fs * 60)]\n",
    "        # trim data\n",
    "        if data.shape[0] / (fs * 60) > labels.shape[0]:\n",
    "            data = data[:fs * 60 * labels.shape[0]]\n",
    "        else:\n",
    "            labels = labels[:data.shape[0] // (fs * 60)]\n",
    "        # filter data\n",
    "        data = signal.filtfilt(filt_b, filt_a, data)\n",
    "        # normalize\n",
    "        data = (data - data.mean()) / data.std()\n",
    "        if type == \"test\":\n",
    "            # dublicate first and last segments\n",
    "            data = np.concatenate([data[:fs*60], data, data[-fs*60:]])\n",
    "        else:\n",
    "            labels = labels[windows[0]:-windows[1]]\n",
    "        # windowing\n",
    "        data = sliding_window_view(data, fs * 60 * (sum(windows) + 1))[::60 * fs]\n",
    "        # map label\n",
    "        labels = [0 if label == 'N' else 1 for label in labels]\n",
    "        # append\n",
    "        data_all.append(data)\n",
    "        labels_all += labels\n",
    "        paths_all += [os.path.basename(path)[:-4]] * len(labels)\n",
    "    data_all = np.concatenate(data_all, axis=0)\n",
    "    return data_all, labels_all, paths_all"
   ]
  },
  {
   "cell_type": "code",
   "execution_count": 8,
   "metadata": {},
   "outputs": [],
   "source": [
    "def save_segments(data, label, folder, path, i):\n",
    "    # save path\n",
    "    save_path = f\"segments/{folder}/{path}_{i:05}_{label}_.npy\"\n",
    "    # save\n",
    "    np.save(save_path, data)    "
   ]
  },
  {
   "cell_type": "code",
   "execution_count": 9,
   "metadata": {},
   "outputs": [],
   "source": [
    "# from concurrent.futures import ProcessPoolExecutor\n",
    "\n",
    "# # get files\n",
    "# data_train_val, labels_train_val, paths = get_all(files_train_val, \"train\")\n",
    "\n",
    "# if __name__ == \"__main__\":\n",
    "#     # execute with context menager\n",
    "#     with ProcessPoolExecutor(max_workers=4) as executor:\n",
    "#         results = executor.map(\n",
    "#             save_segments, \n",
    "#             [data_train_val[i] for i in range(data_train_val.shape[0])], \n",
    "#             labels_train_val, \n",
    "#             [\"train_val\"] * len(labels_train_val), \n",
    "#             paths, np.arange(len(labels_train_val))\n",
    "#         )\n",
    "\n",
    "# # get files\n",
    "# data_test, labels_test, paths = get_all(files_test, \"test\")\n",
    "\n",
    "# if __name__ == \"__main__\":\n",
    "#     # execute with context menager\n",
    "#     with ProcessPoolExecutor(max_workers=4) as executor:\n",
    "#         results = executor.map(\n",
    "#             save_segments, \n",
    "#             [data_test[i] for i in range(data_test.shape[0])], \n",
    "#             labels_test, \n",
    "#             [\"test\"] * len(labels_test), \n",
    "#             paths, \n",
    "#             np.arange(len(labels_test)))"
   ]
  },
  {
   "cell_type": "markdown",
   "metadata": {},
   "source": [
    "## Segment Files"
   ]
  },
  {
   "cell_type": "code",
   "execution_count": 10,
   "metadata": {},
   "outputs": [],
   "source": [
    "# paths to train-val files\n",
    "files_train_val = sorted(glob.glob(\"data/*.npy\"))\n",
    "files_train_val = [path for path in files_train_val if \"x\" not in path]\n",
    "\n",
    "# split into training and val\n",
    "files_train, files_val = train_test_split(files_train_val, test_size=6, random_state=0)\n",
    "\n",
    "train_subjects = [os.path.basename(path)[:3] for path in files_train]\n",
    "val_subjects = [os.path.basename(path)[:3] for path in files_val]\n",
    "\n",
    "# train-val data\n",
    "train_val_data = glob.glob(\"segments/train_val/*.npy\")\n",
    "\n",
    "# train data\n",
    "train_data = [path for path in train_val_data if os.path.basename(path)[:3] in train_subjects]\n",
    "\n",
    "# val data\n",
    "val_data = [path for path in train_val_data if os.path.basename(path)[:3] in val_subjects]\n",
    "\n",
    "# test data\n",
    "test_data = glob.glob(\"segments/test/*.npy\")"
   ]
  },
  {
   "cell_type": "markdown",
   "metadata": {},
   "source": [
    "## Dataset"
   ]
  },
  {
   "cell_type": "code",
   "execution_count": 11,
   "metadata": {},
   "outputs": [],
   "source": [
    "class ApneaDs(Dataset):\n",
    "    def __init__(self, paths, transform=None):\n",
    "        self.paths = paths\n",
    "        self.transform = transform\n",
    "        \n",
    "    def __len__(self):\n",
    "        return len(self.paths)\n",
    "        \n",
    "    def __getitem__(self, idx):\n",
    "        # get data and label\n",
    "        data = np.load(self.paths[idx])        \n",
    "        # transform\n",
    "        if self.transform != None:\n",
    "            data = self.transform(torch.tensor(data, dtype=torch.float32))\n",
    "        else:\n",
    "            data = torch.tensor(data, dtype=torch.float32)        \n",
    "        \n",
    "        # get label\n",
    "        label = int(self.paths[idx].split(\"_\")[-2])\n",
    "\n",
    "        if self.transform == None:\n",
    "            return data.unsqueeze(0), torch.tensor(label)\n",
    "        else:\n",
    "            return data, torch.tensor(label)\n",
    "            \n",
    "    "
   ]
  },
  {
   "cell_type": "markdown",
   "metadata": {},
   "source": [
    "## Data Loader"
   ]
  },
  {
   "cell_type": "code",
   "execution_count": 13,
   "metadata": {},
   "outputs": [],
   "source": [
    "win_length = int(fs * 0.4)\n",
    "hop_length = win_length // 2\n",
    "\n",
    "t1 = v2.Compose([\n",
    "    Spectrogram(n_fft=fs * 4, win_length=win_length, hop_length=hop_length, power=1),\n",
    "    SpecAugment(2, 90, 2, 20),\n",
    "    AmplitudeToDB(\"magnitude\"),\n",
    "])\n",
    "\n",
    "t2 = v2.Compose([\n",
    "    Spectrogram(n_fft=fs * 4, win_length=win_length, hop_length=hop_length, power=1),\n",
    "    AmplitudeToDB(\"magnitude\"),\n",
    "])"
   ]
  },
  {
   "cell_type": "code",
   "execution_count": 14,
   "metadata": {},
   "outputs": [],
   "source": [
    "# datasets\n",
    "ds_train = ApneaDs(train_data, t1)\n",
    "ds_val = ApneaDs(val_data, t2)\n",
    "ds_test = ApneaDs(test_data, t2)\n",
    "\n",
    "# data loaders\n",
    "dl_train = DataLoader(ds_train, batch_size=batch_size, shuffle=True, num_workers=32, persistent_workers=True, prefetch_factor=2)\n",
    "dl_val = DataLoader(ds_val, batch_size=batch_size, shuffle=False, num_workers=16, persistent_workers=True, prefetch_factor=2)\n",
    "dl_test = DataLoader(ds_test, batch_size=batch_size, shuffle=False, num_workers=16, persistent_workers=True, prefetch_factor=2)"
   ]
  },
  {
   "cell_type": "code",
   "execution_count": 15,
   "metadata": {},
   "outputs": [
    {
     "data": {
      "text/plain": [
       "torch.Size([201, 901])"
      ]
     },
     "execution_count": 15,
     "metadata": {},
     "output_type": "execute_result"
    }
   ],
   "source": [
    "d, l = next(iter(ds_train))\n",
    "d.shape"
   ]
  },
  {
   "cell_type": "markdown",
   "metadata": {},
   "source": [
    "# Training"
   ]
  },
  {
   "cell_type": "markdown",
   "metadata": {},
   "source": [
    "## Functions"
   ]
  },
  {
   "cell_type": "code",
   "execution_count": 16,
   "metadata": {},
   "outputs": [],
   "source": [
    "def write_to_text(file_name: str, vals: List):\n",
    "    # check if it is the first epoch\n",
    "    # if it is the first, delete the old one and create new one\n",
    "    if vals[0] == 0 and os.path.exists(file_name):\n",
    "        os.remove(file_name)\n",
    "        with open(file_name, \"a+\") as f:\n",
    "            f.writelines(\"Epoch; Training Loss; Training Accuracy; Val Loss; Val Accuracy\\n\")\n",
    "        f.close()\n",
    "    \n",
    "    with open(file_name, \"a+\") as f:\n",
    "        f.writelines(\";\".join([f\"{v:.4f}\" for v in vals]) + \"\\n\")\n",
    "    f.close()"
   ]
  },
  {
   "cell_type": "code",
   "execution_count": 17,
   "metadata": {},
   "outputs": [],
   "source": [
    "class RunningStats:\n",
    "    def __init__(self):\n",
    "        self.length = 0\n",
    "        self.loss = 0\n",
    "        self.num_correct = 0\n",
    "        \n",
    "    def update(self, loss_val, num_correct, length):\n",
    "        # calculate result\n",
    "        self.loss = (self.length * self.loss + loss_val * length) / (self.length + length)\n",
    "        self.num_correct = self.num_correct + num_correct\n",
    "        \n",
    "        # update length\n",
    "        self.length += length\n",
    "    \n",
    "    def result(self):\n",
    "        return self.loss, self.num_correct / self.length"
   ]
  },
  {
   "cell_type": "code",
   "execution_count": 18,
   "metadata": {},
   "outputs": [],
   "source": [
    "# train one epoch\n",
    "def train_step(model, opt, loss_fn, epoch, dl_train):\n",
    "    # start time\n",
    "    start_time = time.time()\n",
    "    \n",
    "    # train mode\n",
    "    model.train()\n",
    "\n",
    "    # running loss and correct\n",
    "    running_loss = RunningStats()\n",
    "\n",
    "    # loop over batches\n",
    "    for i, data in enumerate(dl_train):\n",
    "        # to device\n",
    "        X_batch = data[0].to(device, non_blocking=True)\n",
    "        y_batch = data[1].to(device, non_blocking=True)\n",
    "\n",
    "        # zero grad\n",
    "        opt.zero_grad()\n",
    "\n",
    "        # prediction\n",
    "        pred = model(X_batch)\n",
    "        \n",
    "        # loss, backward, update\n",
    "        loss = loss_fn(pred, y_batch.long())\n",
    "        loss.backward()\n",
    "        opt.step()\n",
    "\n",
    "        # update metrics\n",
    "        pred = pred.argmax(axis=1).ravel()\n",
    "        y_batch = y_batch.ravel()\n",
    "        num_correct = torch.sum(y_batch == pred)\n",
    "\n",
    "        running_loss.update(loss.item(), num_correct.item(), y_batch.ravel().shape[0])\n",
    "        \n",
    "    # print\n",
    "    results = running_loss.result()\n",
    "    print(f\"{time.time() - start_time:3.1f}s Epoch {epoch:3d}: train loss: {results[0]:2.4f},  train acc: {results[1]:.3f}\", end=\" \")\n",
    "    return running_loss.result()\n",
    "    \n",
    "# eval one epoch\n",
    "def eval_step(model, opt, loss_fn, data_loader, type=\"val\"):   \n",
    "    # eval mode\n",
    "    model.eval()\n",
    "\n",
    "    # running loss and correct\n",
    "    running_loss = RunningStats()\n",
    "\n",
    "    # no grad\n",
    "    with torch.no_grad():\n",
    "        # loop over batches\n",
    "        for data in data_loader:\n",
    "            # to device\n",
    "            X_batch = data[0].to(device, non_blocking=True)\n",
    "            y_batch = data[1].to(device, non_blocking=True)\n",
    "\n",
    "            # zero grad\n",
    "            opt.zero_grad()\n",
    "\n",
    "            # prediction\n",
    "            pred = model(X_batch)\n",
    "\n",
    "            # loss\n",
    "            loss = loss_fn(pred, y_batch.long())\n",
    "\n",
    "            # update metrics\n",
    "            pred = pred.argmax(axis=1).ravel()\n",
    "            y_batch = y_batch.ravel()\n",
    "            num_correct = torch.sum(y_batch == pred)\n",
    "\n",
    "            running_loss.update(loss.item(), num_correct.item(), y_batch.ravel().shape[0])\n",
    "\n",
    "    # print\n",
    "    results = running_loss.result()\n",
    "    print(f\"{type} loss: {results[0]:2.4f},  {type} acc: {results[1]:.3f}\", end=\" \")\n",
    "    \n",
    "    return running_loss.result()"
   ]
  },
  {
   "cell_type": "markdown",
   "metadata": {},
   "source": [
    "## Early Stopping"
   ]
  },
  {
   "cell_type": "code",
   "execution_count": 19,
   "metadata": {},
   "outputs": [],
   "source": [
    "class EarlyStop():\n",
    "    def __init__(self, patience=1, min_delta=0., mode=\"max\"):\n",
    "        self.patience = patience\n",
    "        self.min_delta = min_delta\n",
    "        self.counter = 0\n",
    "        self.best_metric = 0 if mode == \"max\" else 1e6\n",
    "        self.best_w = 0\n",
    "        self.mode = 1 if mode == \"max\" else -1\n",
    "    \n",
    "    def __call__(self, metric, params):\n",
    "        if (self.mode*metric - self.mode*self.best_metric) > self.min_delta:\n",
    "            self.best_metric = metric\n",
    "            self.counter = 0\n",
    "            self.best_w = params\n",
    "            return False\n",
    "        else:\n",
    "            self.counter += 1\n",
    "            if self.counter >= self.patience:\n",
    "                print(f\"Training terminated with max accuracy of {self.best_metric:.3f}\")            \n",
    "                return True\n",
    "            else:\n",
    "                return False\n"
   ]
  },
  {
   "cell_type": "markdown",
   "metadata": {},
   "source": [
    "## Opt"
   ]
  },
  {
   "cell_type": "code",
   "execution_count": 20,
   "metadata": {},
   "outputs": [],
   "source": [
    "def setup_optimizer(model, lr, weight_decay, epochs):\n",
    "    \"\"\"\n",
    "    S4 requires a specific optimizer setup.\n",
    "\n",
    "    The S4 layer (A, B, C, dt) parameters typically\n",
    "    require a smaller learning rate (typically 0.001), with no weight decay.\n",
    "\n",
    "    The rest of the model can be trained with a higher learning rate (e.g. 0.004, 0.01)\n",
    "    and weight decay (if desired).\n",
    "    \"\"\"\n",
    "\n",
    "    # All parameters in the model\n",
    "    all_parameters = list(model.parameters())\n",
    "\n",
    "    # General parameters don't contain the special _optim key\n",
    "    params = [p for p in all_parameters if not hasattr(p, \"_optim\")]\n",
    "\n",
    "    # Create an optimizer with the general parameters\n",
    "    optimizer = torch.optim.AdamW(params, lr=lr, weight_decay=weight_decay)\n",
    "\n",
    "    # Add parameters with special hyperparameters\n",
    "    hps = [getattr(p, \"_optim\") for p in all_parameters if hasattr(p, \"_optim\")]\n",
    "    hps = [\n",
    "        dict(s) for s in sorted(list(dict.fromkeys(frozenset(hp.items()) for hp in hps)))\n",
    "    ]  # Unique dicts\n",
    "    for hp in hps:\n",
    "        params = [p for p in all_parameters if getattr(p, \"_optim\", None) == hp]\n",
    "        optimizer.add_param_group(\n",
    "            {\"params\": params, **hp}\n",
    "        )\n",
    "\n",
    "    # Create a lr scheduler\n",
    "    # scheduler = torch.optim.lr_scheduler.ReduceLROnPlateau(optimizer, patience=patience, factor=0.2)\n",
    "    scheduler = torch.optim.lr_scheduler.CosineAnnealingLR(optimizer, epochs)\n",
    "\n",
    "    # Print optimizer info\n",
    "    keys = sorted(set([k for hp in hps for k in hp.keys()]))\n",
    "    for i, g in enumerate(optimizer.param_groups):\n",
    "        group_hps = {k: g.get(k, None) for k in keys}\n",
    "        print(' | '.join([\n",
    "            f\"Optimizer group {i}\",\n",
    "            f\"{len(g['params'])} tensors\",\n",
    "        ] + [f\"{k} {v}\" for k, v in group_hps.items()]))\n",
    "\n",
    "    return optimizer, scheduler"
   ]
  },
  {
   "cell_type": "markdown",
   "metadata": {},
   "source": [
    "## Loop"
   ]
  },
  {
   "cell_type": "code",
   "execution_count": 21,
   "metadata": {},
   "outputs": [
    {
     "name": "stdout",
     "output_type": "stream",
     "text": [
      "Optimizer group 0 | 36 tensors | lr 0.001 | weight_decay 0.005\n",
      "Optimizer group 1 | 6 tensors | lr 0.001 | weight_decay 0.005\n",
      "Optimizer group 2 | 30 tensors | lr 0.001 | weight_decay 0.0\n",
      "S4: Initializing kernel to length 901\n",
      "S4: Initializing kernel to length 901\n",
      "S4: Initializing kernel to length 901\n",
      "S4: Initializing kernel to length 901\n",
      "S4: Initializing kernel to length 901\n",
      "S4: Initializing kernel to length 901\n",
      "16.8s Epoch   0: train loss: 0.4484,  train acc: 0.779 val loss: 0.2951,  val acc: 0.891 \n",
      "15.8s Epoch   1: train loss: 0.2399,  train acc: 0.899 val loss: 0.1843,  val acc: 0.932 \n",
      "15.5s Epoch   2: train loss: 0.2037,  train acc: 0.917 val loss: 0.2354,  val acc: 0.926 \n",
      "15.6s Epoch   3: train loss: 0.1860,  train acc: 0.925 val loss: 0.1740,  val acc: 0.935 \n",
      "17.2s Epoch   4: train loss: 0.1785,  train acc: 0.927 val loss: 0.2088,  val acc: 0.927 \n",
      "15.5s Epoch   5: train loss: 0.1602,  train acc: 0.936 val loss: 0.1658,  val acc: 0.944 \n",
      "15.5s Epoch   6: train loss: 0.1589,  train acc: 0.933 val loss: 0.1996,  val acc: 0.920 \n",
      "15.6s Epoch   7: train loss: 0.1501,  train acc: 0.939 val loss: 0.1956,  val acc: 0.926 \n",
      "15.6s Epoch   8: train loss: 0.1433,  train acc: 0.941 val loss: 0.2263,  val acc: 0.914 \n",
      "15.7s Epoch   9: train loss: 0.1434,  train acc: 0.942 val loss: 0.1469,  val acc: 0.948 \n",
      "15.8s Epoch  10: train loss: 0.1408,  train acc: 0.942 val loss: 0.1860,  val acc: 0.933 \n",
      "15.5s Epoch  11: train loss: 0.1352,  train acc: 0.946 val loss: 0.1722,  val acc: 0.937 \n",
      "15.8s Epoch  12: train loss: 0.1306,  train acc: 0.947 val loss: 0.1660,  val acc: 0.940 \n",
      "15.5s Epoch  13: train loss: 0.1314,  train acc: 0.946 val loss: 0.1732,  val acc: 0.934 \n",
      "15.5s Epoch  14: train loss: 0.1270,  train acc: 0.951 val loss: 0.2044,  val acc: 0.924 \n",
      "15.6s Epoch  15: train loss: 0.1218,  train acc: 0.951 val loss: 0.1820,  val acc: 0.940 \n",
      "15.5s Epoch  16: train loss: 0.1215,  train acc: 0.953 val loss: 0.1860,  val acc: 0.930 \n",
      "15.5s Epoch  17: train loss: 0.1195,  train acc: 0.952 val loss: 0.1544,  val acc: 0.950 \n",
      "15.7s Epoch  18: train loss: 0.1145,  train acc: 0.953 val loss: 0.1775,  val acc: 0.931 \n",
      "15.6s Epoch  19: train loss: 0.1172,  train acc: 0.954 val loss: 0.1926,  val acc: 0.924 \n",
      "15.8s Epoch  20: train loss: 0.1138,  train acc: 0.956 val loss: 0.1597,  val acc: 0.946 \n",
      "15.5s Epoch  21: train loss: 0.1142,  train acc: 0.952 val loss: 0.1752,  val acc: 0.935 \n",
      "15.5s Epoch  22: train loss: 0.1065,  train acc: 0.957 val loss: 0.1944,  val acc: 0.931 \n",
      "18.8s Epoch  23: train loss: 0.1087,  train acc: 0.956 val loss: 0.1923,  val acc: 0.939 \n",
      "15.5s Epoch  24: train loss: 0.1059,  train acc: 0.957 val loss: 0.1812,  val acc: 0.938 \n",
      "15.5s Epoch  25: train loss: 0.1064,  train acc: 0.957 val loss: 0.1681,  val acc: 0.946 \n",
      "15.5s Epoch  26: train loss: 0.1014,  train acc: 0.960 val loss: 0.1749,  val acc: 0.945 \n",
      "15.7s Epoch  27: train loss: 0.0999,  train acc: 0.959 val loss: 0.1891,  val acc: 0.946 \n",
      "15.6s Epoch  28: train loss: 0.0992,  train acc: 0.961 val loss: 0.1950,  val acc: 0.936 \n",
      "15.5s Epoch  29: train loss: 0.0998,  train acc: 0.961 val loss: 0.1804,  val acc: 0.946 \n",
      "Training terminated with max accuracy of 0.147\n"
     ]
    }
   ],
   "source": [
    "if __name__ == \"__main__\":\n",
    "    # model\n",
    "    model.to(device)\n",
    "    \n",
    "    # optimizer\n",
    "    opt, scheduler = setup_optimizer(model, lr, 5e-3, 100)\n",
    "\n",
    "    # loss function \n",
    "    loss_fn = nn.CrossEntropyLoss()\n",
    "    \n",
    "    # early stop\n",
    "    early_stop = EarlyStop(patience=20, mode=\"min\")\n",
    "\n",
    "    # history\n",
    "    hist = {\n",
    "        \"train_loss\": [],\n",
    "        \"train_acc\": [],\n",
    "        \"val_loss\": [],\n",
    "        \"val_acc\": [],\n",
    "    }\n",
    "    # loop over epochs\n",
    "    for epoch in range(200):\n",
    "        # train one step\n",
    "        train_loss, train_acc = train_step(model, opt, loss_fn, epoch, dl_train)\n",
    "\n",
    "        # evaluate\n",
    "        val_loss, val_acc = eval_step(model, opt, loss_fn, dl_val, type=\"val\")\n",
    "        # scheduler.step()\n",
    "        print()\n",
    "\n",
    "        # write to text\n",
    "        write_to_text(\"log.txt\", [epoch, train_loss, train_acc, val_loss, val_acc])\n",
    "        \n",
    "        # append to history\n",
    "        hist[\"train_loss\"].append(train_loss)\n",
    "        hist[\"train_acc\"].append(train_acc)\n",
    "        hist[\"val_loss\"].append(val_loss)\n",
    "        hist[\"val_acc\"].append(val_acc)\n",
    "       \n",
    "        # early\n",
    "        if early_stop(val_loss, deepcopy(model.state_dict())):\n",
    "            model.load_state_dict(early_stop.best_w)\n",
    "            break\n",
    "        \n",
    "    torch.save(model.state_dict(), \"model_weights.pt\")"
   ]
  },
  {
   "cell_type": "code",
   "execution_count": 22,
   "metadata": {},
   "outputs": [
    {
     "data": {
      "text/plain": [
       "<matplotlib.legend.Legend at 0x1464fd589ee0>"
      ]
     },
     "execution_count": 22,
     "metadata": {},
     "output_type": "execute_result"
    },
    {
     "data": {
      "image/png": "[encoded data removed]",
      "text/plain": [
       "<Figure size 1000x400 with 1 Axes>"
      ]
     },
     "metadata": {},
     "output_type": "display_data"
    }
   ],
   "source": [
    "plt.figure(figsize=(10, 4))\n",
    "plt.plot(hist[\"train_acc\"], label=\"training\")\n",
    "plt.plot(hist[\"val_acc\"], label=\"val\")\n",
    "plt.legend()"
   ]
  },
  {
   "cell_type": "markdown",
   "metadata": {},
   "source": [
    "# Testing"
   ]
  },
  {
   "cell_type": "code",
   "execution_count": 24,
   "metadata": {},
   "outputs": [
    {
     "name": "stdout",
     "output_type": "stream",
     "text": [
      "Apnea Detection\n",
      "              precision    recall  f1-score   support\n",
      "\n",
      "           0      0.948     0.944     0.946     10701\n",
      "           1      0.909     0.916     0.912      6547\n",
      "\n",
      "    accuracy                          0.933     17248\n",
      "   macro avg      0.929     0.930     0.929     17248\n",
      "weighted avg      0.933     0.933     0.933     17248\n",
      "\n"
     ]
    },
    {
     "data": {
      "image/png": "[encoded data removed]",
      "text/plain": [
       "<Figure size 800x800 with 1 Axes>"
      ]
     },
     "metadata": {},
     "output_type": "display_data"
    },
    {
     "data": {
      "text/plain": [
       "<Figure size 640x480 with 0 Axes>"
      ]
     },
     "metadata": {},
     "output_type": "display_data"
    }
   ],
   "source": [
    "model.eval()\n",
    "\n",
    "# list to hold predictions\n",
    "y_pred_all = []\n",
    "y_true_all = []\n",
    "\n",
    "# no grad, loop\n",
    "with torch.no_grad():\n",
    "    for data in dl_test:\n",
    "        # to device\n",
    "        X_batch = data[0].to(device)\n",
    "        true = data[1].to(device).ravel()\n",
    "\n",
    "        # zero grad\n",
    "        opt.zero_grad()\n",
    "\n",
    "        # prediction\n",
    "        pred = model(X_batch)\n",
    "        pred = pred.argmax(axis=-1).ravel()\n",
    "\n",
    "        # append to the lists\n",
    "        y_pred_all += pred.tolist()\n",
    "        y_true_all += true.tolist()\n",
    "\n",
    "\n",
    "# print metrics\n",
    "print(\"Apnea Detection\")\n",
    "print(classification_report(y_true_all, y_pred_all, digits=3))\n",
    "\n",
    "# confusion matrix\n",
    "plt.figure(figsize=(4, 4), dpi=200)\n",
    "plot_cm(y_true_all, y_pred_all, [\"Normal\", \"Apnea\"])\n",
    "plt.show()\n",
    "plt.savefig(\"cm.png\", bbox_inches='tight', pad_inches=0)"
   ]
  }
 ],
 "metadata": {
  "kernelspec": {
   "display_name": "torch_env",
   "language": "python",
   "name": "python3"
  },
  "language_info": {
   "codemirror_mode": {
    "name": "ipython",
    "version": 3
   },
   "file_extension": ".py",
   "mimetype": "text/x-python",
   "name": "python",
   "nbconvert_exporter": "python",
   "pygments_lexer": "ipython3",
   "version": "3.12.3"
  }
 },
 "nbformat": 4,
 "nbformat_minor": 4
}
